{
 "cells": [
  {
   "cell_type": "markdown",
   "metadata": {},
   "source": [
    "# Домашнее задание 2 - предобработка признаков, pandas\n",
    "\n",
    "\n",
    "### О задании\n",
    "\n",
    "Практическое задание 2 посвящено изучению основных библиотек для анализа данных, а также линейных моделей и методов их обучения. Вы научитесь:\n",
    " * применять библиотеки NumPy и Pandas для осуществления желаемых преобразований;\n",
    " * подготавливать данные для обучения линейных моделей;\n",
    " * обучать линейную, Lasso и Ridge-регрессии при помощи модуля scikit-learn;\n",
    " * реализовывать обычный и стохастический градиентные спуски;\n",
    " * обучать линейную регрессию для произвольного функционала качества.\n",
    " \n",
    "\n",
    "### Оценивание и штрафы\n",
    "\n",
    "Каждая из задач имеет определенную «стоимость» (указана в скобках около задачи). Максимально допустимая оценка за работу — 10 баллов. Кроме того, некоторые из заданий являются опциональными (необязательными), однако за их выполнение можно получить дополнительные баллы, которые позднее будут учитываться при проставлении оценок автоматом по курсу.\n",
    "\n",
    "Сдавать задание после указанного срока сдачи нельзя. При выставлении неполного балла за задание в связи с наличием ошибок на усмотрение проверяющего предусмотрена возможность исправить работу на указанных в ответном письме условиях.\n",
    "\n",
    "Задание выполняется самостоятельно. «Похожие» решения считаются плагиатом и все задействованные студенты (в том числе те, у кого списали) не могут получить за него больше 0 баллов. Если вы нашли решение какого-то из заданий (или его часть) в открытом источнике, необходимо указать ссылку на этот источник в отдельном блоке в конце Вашей работы (скорее всего вы будете не единственным, кто это нашел, поэтому чтобы исключить подозрение в плагиате, необходима ссылка на источник). \n",
    "\n",
    "Неэффективная реализация кода может негативно отразиться на оценке.\n",
    "\n",
    "\n",
    "### Формат сдачи\n",
    "Для сдачи задания получившийся файл \\*.ipynb с решением необходимо выложить в свой репозиторий github."
   ]
  },
  {
   "cell_type": "markdown",
   "metadata": {},
   "source": [
    "## Библиотеки для анализа данных\n",
    "\n",
    "### NumPy\n",
    "\n",
    "Во всех заданиях данного раздела запрещено использовать циклы  и list comprehensions. Под вектором и матрицей в данных заданиях понимается одномерный и двумерный numpy.array соответственно."
   ]
  },
  {
   "cell_type": "code",
   "execution_count": 1,
   "metadata": {},
   "outputs": [],
   "source": [
    "import numpy as np"
   ]
  },
  {
   "cell_type": "markdown",
   "metadata": {},
   "source": [
    "**1. (0.2 балла)** Реализуйте функцию, возвращающую максимальный элемент в векторе x среди элементов, перед которыми стоит нулевой. Для x = np.array([6, 2, 0, 3, 0, 0, 5, 7, 0]) ответом является 5. Если нулевых элементов нет, функция должна возвращать None.\n"
   ]
  },
  {
   "cell_type": "code",
   "execution_count": 5,
   "metadata": {},
   "outputs": [
    {
     "data": {
      "text/plain": [
       "5"
      ]
     },
     "execution_count": 5,
     "metadata": {},
     "output_type": "execute_result"
    }
   ],
   "source": [
    "def max_element(arr):\n",
    "    zero = arr == 0\n",
    "    return arr[1:][zero[:-1]].max()\n",
    "    \n",
    "x = np.array([6, 2, 0, 3, 0, 0, 5, 7, 0])\n",
    "max_element(x)"
   ]
  },
  {
   "cell_type": "markdown",
   "metadata": {},
   "source": [
    "**2. (0.2 балла)** Реализуйте функцию, принимающую на вход матрицу и некоторое число и возвращающую ближайший к числу элемент матрицы. Например: для X = np.arange(0,10).reshape((2, 5)) и v = 3.6 ответом будет 4."
   ]
  },
  {
   "cell_type": "code",
   "execution_count": 9,
   "metadata": {},
   "outputs": [
    {
     "data": {
      "text/plain": [
       "4.0"
      ]
     },
     "execution_count": 9,
     "metadata": {},
     "output_type": "execute_result"
    }
   ],
   "source": [
    "def nearest_value(X, v):\n",
    "    Minus = X - v\n",
    "    Minus = abs(Minus)\n",
    "    return (Minus.min()+v)\n",
    "\n",
    "X = np.arange(0,10).reshape((2, 5))\n",
    "v = 3.6\n",
    "nearest_value(X, v)"
   ]
  },
  {
   "cell_type": "markdown",
   "metadata": {},
   "source": [
    "**3. (0.2 балла)** Реализуйте функцию scale(X), которая принимает на вход матрицу и масштабирует каждый ее столбец (вычитает выборочное среднее и делит на стандартное отклонение). Убедитесь, что в функции не будет происходить деления на ноль. Протестируйте на случайной матрице (для её генерации можно использовать, например, функцию [numpy.random.randint](http://docs.scipy.org/doc/numpy/reference/generated/numpy.random.randint.html))."
   ]
  },
  {
   "cell_type": "code",
   "execution_count": 10,
   "metadata": {},
   "outputs": [
    {
     "name": "stdout",
     "output_type": "stream",
     "text": [
      "[[2 4 4]\n",
      " [4 4 2]\n",
      " [3 1 1]]\n"
     ]
    },
    {
     "data": {
      "text/plain": [
       "array([[-1.22474487,  0.70710678,  1.33630621],\n",
       "       [ 1.22474487,  0.70710678, -0.26726124],\n",
       "       [ 0.        , -1.41421356, -1.06904497]])"
      ]
     },
     "execution_count": 10,
     "metadata": {},
     "output_type": "execute_result"
    }
   ],
   "source": [
    "def scale(X):\n",
    "    if 0 in np.std(X, axis = 0):\n",
    "        return 'Плохая матрица'\n",
    "    Mean = X - np.mean(X, axis = 0)\n",
    "    Answer = Mean / np.std(X, axis = 0)\n",
    "    return Answer\n",
    "\n",
    "X = np.random.randint(1,5,(3,3))\n",
    "print(X)\n",
    "scale(X)"
   ]
  },
  {
   "cell_type": "markdown",
   "metadata": {},
   "source": [
    "**4. (0.2 балла)** Реализуйте функцию, которая для заданной матрицы находит:\n",
    " - определитель\n",
    " - след\n",
    " - наименьший и наибольший элементы\n",
    " - норму Фробениуса\n",
    " - собственные числа\n",
    " - обратную матрицу\n",
    "\n",
    "Для тестирования сгенерируйте матрицу с элементами из нормального распределения $\\mathcal{N}$(10,1)"
   ]
  },
  {
   "cell_type": "code",
   "execution_count": 12,
   "metadata": {},
   "outputs": [
    {
     "name": "stdout",
     "output_type": "stream",
     "text": [
      "[[-2.18564634 -0.15604247 -1.26155982]\n",
      " [ 1.51895103  0.81764034 -0.4579535 ]\n",
      " [-0.00648282 -0.37192963  1.5677498 ]]\n",
      "Определитель -1.3522609432451738\n",
      "След 0.1997438028474836\n",
      "Наибольший элемент 1.5677498036697757\n",
      "Наименьший элемент -2.1856463438014875\n",
      "Норма Фробениуса 3.4892140760829746\n",
      "Собственные числа [-2.03283345  0.35412697  1.87845029]\n",
      "Обратная матрица:\n",
      "[[-0.8219782  -0.52789148 -0.81564317]\n",
      " [ 1.75880725  2.53998691  2.15725522]\n",
      " [ 0.41385672  0.6003982   1.14626675]]\n"
     ]
    }
   ],
   "source": [
    "def get_stats(X):\n",
    "    print('Определитель', np.linalg.det(X))\n",
    "    print(\"След\", np.trace(X))\n",
    "    print('Наибольший элемент', np.max(X))\n",
    "    print(\"Наименьший элемент\", np.min(X))\n",
    "    print(\"Норма Фробениуса\", np.linalg.norm(X))\n",
    "    print(\"Собственные числа\", np.linalg.eig(X)[0])\n",
    "    if np.linalg.det(X) == 0:\n",
    "        print('Обратной матрицы нет')\n",
    "    else:\n",
    "        print(\"Обратная матрица:\")\n",
    "        print(np.linalg.inv(X))\n",
    "\n",
    "A = np.random.randn(3, 3) \n",
    "print(A)\n",
    "get_stats(A)"
   ]
  },
  {
   "cell_type": "markdown",
   "metadata": {},
   "source": [
    "**5. (0.2 балла)** Повторите 100 раз следующий эксперимент: сгенерируйте две матрицы размера 10×10 из стандартного нормального распределения, перемножьте их (как матрицы) и найдите максимальный элемент. Какое среднее значение по экспериментам у максимальных элементов? 95-процентная квантиль?"
   ]
  },
  {
   "cell_type": "code",
   "execution_count": 15,
   "metadata": {},
   "outputs": [
    {
     "name": "stdout",
     "output_type": "stream",
     "text": [
      "Среднее 8.219876326993694\n",
      "95 квантиль 11.580950986607922\n"
     ]
    }
   ],
   "source": [
    "matr_max = []\n",
    "for exp_num in range(100):\n",
    "    \n",
    "    Matr1 = np.random.randn(10, 10)\n",
    "    Matr2 = np.random.randn(10, 10)\n",
    "    Max = np.max(Matr1.dot(Matr2))\n",
    "    matr_max.append(Max)\n",
    "\n",
    "\n",
    "print(\"Среднее\", np.mean(matr_max))\n",
    "print(\"95 квантиль\", np.quantile(matr_max, 0.95))"
   ]
  },
  {
   "cell_type": "markdown",
   "metadata": {},
   "source": [
    "### Pandas\n",
    "\n",
    "![](https://metrouk2.files.wordpress.com/2015/10/panda.jpg)\n",
    "\n",
    "#### Ответьте на вопросы о данных по авиарейсам в США за январь-апрель 2008 года.\n",
    "\n",
    "Данные находятся в приложенном файле `2008.csv`. Их [описание](http://stat-computing.org/dataexpo/2009/the-data.html) приведено ниже:"
   ]
  },
  {
   "cell_type": "markdown",
   "metadata": {},
   "source": [
    "Airline on-time performance\n",
    "\n",
    "Have you ever been stuck in an airport because your flight was delayed or cancelled and wondered if you could have predicted it if you'd had more data? This is your chance to find out.\n",
    "\n",
    "The data\n",
    "The data set is available for download here.\n",
    "The data consists of flight arrival and departure details for all commercial flights within the USA, from October 1987 to April 2008. This is a large dataset: there are nearly 120 million records in total, and takes up 1.6 gigabytes of space compressed and 12 gigabytes when uncompressed.\n",
    "\n",
    "Understanding and preparing the data\n",
    "In order to answer above questions, we are going to analyze the provided dataset, containing up to 1936758 ### different internal flights in the US for 2008 and their causes for delay, diversion and cancellation\n",
    "\n",
    "The data comes from the U.S. Department of Transportation’s (DOT) Bureau of Transportation Statistics (BTS). Meta data explanations\n",
    "\n",
    "This dataset is composed by the following variables:\n",
    "\n",
    "**Year** 2008 **Month** 1-12 **DayofMonth** 1-31 **DayOfWeek** 1 (Monday) - 7 (Sunday)  \n",
    "**DepTime** actual departure time (local, hhmm)  \n",
    "**CRSDepTime** scheduled departure time (local, hhmm)  \n",
    "**ArrTime** actual arrival time (local, hhmm)  \n",
    "**CRSArrTime** scheduled arrival time (local, hhmm)  \n",
    "**UniqueCarrier** unique carrier code  \n",
    "**FlightNum** flight number  \n",
    "**TailNum** plane tail number: aircraft registration, unique aircraft identifier  \n",
    "**ActualElapsedTime** in minutes  \n",
    "**CRSElapsedTime** in minutes  \n",
    "**AirTime** in minutes  \n",
    "**ArrDelay** arrival delay, in minutes: A flight is counted as “on time” if it operated less than 15 minutes later the scheduled time shown in the carriers’ Computerized Reservations Systems (CRS).  \n",
    "**DepDelay** departure delay, in minutes  \n",
    "**Origin** origin IATA airport code  \n",
    "**Dest** destination IATA airport code  \n",
    "**Distance** in miles  \n",
    "**TaxiIn** taxi in time, in minutes  \n",
    "**TaxiOut** taxi out time in minutes  \n",
    "**Cancelled** *was the flight cancelled  \n",
    "**CancellationCode** reason for cancellation (A = carrier, B = weather, C = NAS, D = security)  \n",
    "**Diverted** 1 = yes, 0 = no  \n",
    "**CarrierDelay** in minutes: Carrier delay is within the control of the air carrier. Examples of occurrences that may determine carrier delay are: aircraft cleaning, aircraft damage, awaiting the arrival of connecting passengers or crew, baggage, bird strike, cargo loading, catering, computer, outage-carrier equipment, crew legality (pilot or attendant rest), damage by hazardous goods, engineering inspection, fueling, handling disabled passengers, late crew, lavatory servicing, maintenance, oversales, potable water servicing, removal of unruly passenger, slow boarding or seating, stowing carry-on baggage, weight and balance delays.  \n",
    "**WeatherDelay** in minutes: Weather delay is caused by extreme or hazardous weather conditions that are forecasted or manifest themselves on point of departure, enroute, or on point of arrival.  \n",
    "**NASDelay** in minutes: Delay that is within the control of the National Airspace System (NAS) may include: non-extreme weather conditions, airport operations, heavy traffic volume, air traffic control, etc.  \n",
    "**SecurityDelay** in minutes: Security delay is caused by evacuation of a terminal or concourse, re-boarding of aircraft because of security breach, inoperative screening equipment and/or long lines in excess of 29 minutes at screening areas.  \n",
    "**LateAircraftDelay** in minutes: Arrival delay at an airport due to the late arrival of the same aircraft at a previous airport. The ripple effect of an earlier delay at downstream airports is referred to as delay propagation."
   ]
  },
  {
   "cell_type": "code",
   "execution_count": 14,
   "metadata": {},
   "outputs": [],
   "source": [
    "import pandas as pd\n",
    "%matplotlib inline\n",
    "data = pd.read_csv('2008.csv')"
   ]
  },
  {
   "cell_type": "markdown",
   "metadata": {},
   "source": [
    "**6. (0.3 балла)** Какая из причин отмены рейса (`CancellationCode`) была самой частой? (расшифровки кодов можно найти в описании данных)"
   ]
  },
  {
   "cell_type": "code",
   "execution_count": 18,
   "metadata": {},
   "outputs": [
    {
     "data": {
      "text/plain": [
       "CancellationCode\n",
       "A    563\n",
       "B    549\n",
       "C    299\n",
       "dtype: int64"
      ]
     },
     "execution_count": 18,
     "metadata": {},
     "output_type": "execute_result"
    }
   ],
   "source": [
    "data.groupby('CancellationCode').size()"
   ]
  },
  {
   "cell_type": "markdown",
   "metadata": {},
   "source": [
    "**7. (0.3 балла)** Найдите среднее, минимальное и максимальное расстояние, пройденное самолетом."
   ]
  },
  {
   "cell_type": "code",
   "execution_count": 3,
   "metadata": {},
   "outputs": [
    {
     "name": "stdout",
     "output_type": "stream",
     "text": [
      "Среднее 724.5082571428571\n",
      "Минимальное 31\n",
      "Максимальное 4962\n"
     ]
    }
   ],
   "source": [
    "print('Среднее', data[\"Distance\"].mean())\n",
    "print('Минимальное', data[\"Distance\"].min())\n",
    "print('Максимальное', data[\"Distance\"].max())"
   ]
  },
  {
   "cell_type": "markdown",
   "metadata": {},
   "source": [
    "**8. (0.3 балла)** Не выглядит ли подозрительным минимальное пройденное расстояние? В какие дни и на каких рейсах оно было? Какое расстояние было пройдено этими же рейсами в другие дни?"
   ]
  },
  {
   "cell_type": "code",
   "execution_count": 21,
   "metadata": {},
   "outputs": [
    {
     "data": {
      "text/html": [
       "<div>\n",
       "<style scoped>\n",
       "    .dataframe tbody tr th:only-of-type {\n",
       "        vertical-align: middle;\n",
       "    }\n",
       "\n",
       "    .dataframe tbody tr th {\n",
       "        vertical-align: top;\n",
       "    }\n",
       "\n",
       "    .dataframe thead th {\n",
       "        text-align: right;\n",
       "    }\n",
       "</style>\n",
       "<table border=\"1\" class=\"dataframe\">\n",
       "  <thead>\n",
       "    <tr style=\"text-align: right;\">\n",
       "      <th></th>\n",
       "      <th>FlightNum</th>\n",
       "      <th>DayofMonth</th>\n",
       "      <th>Month</th>\n",
       "      <th>Year</th>\n",
       "    </tr>\n",
       "  </thead>\n",
       "  <tbody>\n",
       "    <tr>\n",
       "      <th>1116</th>\n",
       "      <td>65</td>\n",
       "      <td>30</td>\n",
       "      <td>12</td>\n",
       "      <td>2008</td>\n",
       "    </tr>\n",
       "    <tr>\n",
       "      <th>6958</th>\n",
       "      <td>65</td>\n",
       "      <td>26</td>\n",
       "      <td>12</td>\n",
       "      <td>2008</td>\n",
       "    </tr>\n",
       "    <tr>\n",
       "      <th>17349</th>\n",
       "      <td>64</td>\n",
       "      <td>18</td>\n",
       "      <td>8</td>\n",
       "      <td>2008</td>\n",
       "    </tr>\n",
       "    <tr>\n",
       "      <th>27534</th>\n",
       "      <td>64</td>\n",
       "      <td>11</td>\n",
       "      <td>3</td>\n",
       "      <td>2008</td>\n",
       "    </tr>\n",
       "    <tr>\n",
       "      <th>46082</th>\n",
       "      <td>65</td>\n",
       "      <td>9</td>\n",
       "      <td>8</td>\n",
       "      <td>2008</td>\n",
       "    </tr>\n",
       "    <tr>\n",
       "      <th>48112</th>\n",
       "      <td>64</td>\n",
       "      <td>28</td>\n",
       "      <td>2</td>\n",
       "      <td>2008</td>\n",
       "    </tr>\n",
       "  </tbody>\n",
       "</table>\n",
       "</div>"
      ],
      "text/plain": [
       "       FlightNum  DayofMonth  Month  Year\n",
       "1116          65          30     12  2008\n",
       "6958          65          26     12  2008\n",
       "17349         64          18      8  2008\n",
       "27534         64          11      3  2008\n",
       "46082         65           9      8  2008\n",
       "48112         64          28      2  2008"
      ]
     },
     "execution_count": 21,
     "metadata": {},
     "output_type": "execute_result"
    }
   ],
   "source": [
    "data[data[\"Distance\"] == 31][[\"FlightNum\", \"DayofMonth\", \"Month\", \"Year\"]]"
   ]
  },
  {
   "cell_type": "code",
   "execution_count": 38,
   "metadata": {},
   "outputs": [
    {
     "data": {
      "text/html": [
       "<div>\n",
       "<style scoped>\n",
       "    .dataframe tbody tr th:only-of-type {\n",
       "        vertical-align: middle;\n",
       "    }\n",
       "\n",
       "    .dataframe tbody tr th {\n",
       "        vertical-align: top;\n",
       "    }\n",
       "\n",
       "    .dataframe thead th {\n",
       "        text-align: right;\n",
       "    }\n",
       "</style>\n",
       "<table border=\"1\" class=\"dataframe\">\n",
       "  <thead>\n",
       "    <tr style=\"text-align: right;\">\n",
       "      <th></th>\n",
       "      <th>FlightNum</th>\n",
       "      <th>Distance</th>\n",
       "      <th>DayofMonth</th>\n",
       "      <th>Month</th>\n",
       "      <th>Year</th>\n",
       "    </tr>\n",
       "  </thead>\n",
       "  <tbody>\n",
       "    <tr>\n",
       "      <th>501</th>\n",
       "      <td>64</td>\n",
       "      <td>533</td>\n",
       "      <td>20</td>\n",
       "      <td>3</td>\n",
       "      <td>2008</td>\n",
       "    </tr>\n",
       "    <tr>\n",
       "      <th>1389</th>\n",
       "      <td>64</td>\n",
       "      <td>680</td>\n",
       "      <td>13</td>\n",
       "      <td>3</td>\n",
       "      <td>2008</td>\n",
       "    </tr>\n",
       "    <tr>\n",
       "      <th>1517</th>\n",
       "      <td>65</td>\n",
       "      <td>680</td>\n",
       "      <td>10</td>\n",
       "      <td>7</td>\n",
       "      <td>2008</td>\n",
       "    </tr>\n",
       "    <tr>\n",
       "      <th>2619</th>\n",
       "      <td>64</td>\n",
       "      <td>2381</td>\n",
       "      <td>23</td>\n",
       "      <td>5</td>\n",
       "      <td>2008</td>\n",
       "    </tr>\n",
       "    <tr>\n",
       "      <th>3869</th>\n",
       "      <td>64</td>\n",
       "      <td>82</td>\n",
       "      <td>1</td>\n",
       "      <td>7</td>\n",
       "      <td>2008</td>\n",
       "    </tr>\n",
       "    <tr>\n",
       "      <th>...</th>\n",
       "      <td>...</td>\n",
       "      <td>...</td>\n",
       "      <td>...</td>\n",
       "      <td>...</td>\n",
       "      <td>...</td>\n",
       "    </tr>\n",
       "    <tr>\n",
       "      <th>66529</th>\n",
       "      <td>65</td>\n",
       "      <td>82</td>\n",
       "      <td>21</td>\n",
       "      <td>12</td>\n",
       "      <td>2008</td>\n",
       "    </tr>\n",
       "    <tr>\n",
       "      <th>67172</th>\n",
       "      <td>64</td>\n",
       "      <td>533</td>\n",
       "      <td>22</td>\n",
       "      <td>3</td>\n",
       "      <td>2008</td>\n",
       "    </tr>\n",
       "    <tr>\n",
       "      <th>68264</th>\n",
       "      <td>65</td>\n",
       "      <td>386</td>\n",
       "      <td>7</td>\n",
       "      <td>9</td>\n",
       "      <td>2008</td>\n",
       "    </tr>\n",
       "    <tr>\n",
       "      <th>68338</th>\n",
       "      <td>65</td>\n",
       "      <td>2454</td>\n",
       "      <td>3</td>\n",
       "      <td>8</td>\n",
       "      <td>2008</td>\n",
       "    </tr>\n",
       "    <tr>\n",
       "      <th>69305</th>\n",
       "      <td>65</td>\n",
       "      <td>1005</td>\n",
       "      <td>5</td>\n",
       "      <td>1</td>\n",
       "      <td>2008</td>\n",
       "    </tr>\n",
       "  </tbody>\n",
       "</table>\n",
       "<p>72 rows × 5 columns</p>\n",
       "</div>"
      ],
      "text/plain": [
       "       FlightNum  Distance  DayofMonth  Month  Year\n",
       "501           64       533          20      3  2008\n",
       "1389          64       680          13      3  2008\n",
       "1517          65       680          10      7  2008\n",
       "2619          64      2381          23      5  2008\n",
       "3869          64        82           1      7  2008\n",
       "...          ...       ...         ...    ...   ...\n",
       "66529         65        82          21     12  2008\n",
       "67172         64       533          22      3  2008\n",
       "68264         65       386           7      9  2008\n",
       "68338         65      2454           3      8  2008\n",
       "69305         65      1005           5      1  2008\n",
       "\n",
       "[72 rows x 5 columns]"
      ]
     },
     "execution_count": 38,
     "metadata": {},
     "output_type": "execute_result"
    }
   ],
   "source": [
    "data[((data[\"FlightNum\"] == 65) | (data[\"FlightNum\"] == 64)) \n",
    "      & (data['Distance'] != 31)][[\"FlightNum\", \"Distance\", \"DayofMonth\", \"Month\", \"Year\"]]"
   ]
  },
  {
   "cell_type": "markdown",
   "metadata": {},
   "source": [
    "**9. (0.3 балла)** Из какого аэропорта было произведено больше всего вылетов? В каком городе он находится?"
   ]
  },
  {
   "cell_type": "code",
   "execution_count": 39,
   "metadata": {},
   "outputs": [
    {
     "data": {
      "text/html": [
       "<div>\n",
       "<style scoped>\n",
       "    .dataframe tbody tr th:only-of-type {\n",
       "        vertical-align: middle;\n",
       "    }\n",
       "\n",
       "    .dataframe tbody tr th {\n",
       "        vertical-align: top;\n",
       "    }\n",
       "\n",
       "    .dataframe thead th {\n",
       "        text-align: right;\n",
       "    }\n",
       "</style>\n",
       "<table border=\"1\" class=\"dataframe\">\n",
       "  <thead>\n",
       "    <tr style=\"text-align: right;\">\n",
       "      <th></th>\n",
       "      <th>Origin</th>\n",
       "      <th>number_flights</th>\n",
       "    </tr>\n",
       "  </thead>\n",
       "  <tbody>\n",
       "    <tr>\n",
       "      <th>18</th>\n",
       "      <td>ATL</td>\n",
       "      <td>4134</td>\n",
       "    </tr>\n",
       "    <tr>\n",
       "      <th>208</th>\n",
       "      <td>ORD</td>\n",
       "      <td>3550</td>\n",
       "    </tr>\n",
       "    <tr>\n",
       "      <th>79</th>\n",
       "      <td>DFW</td>\n",
       "      <td>2793</td>\n",
       "    </tr>\n",
       "    <tr>\n",
       "      <th>78</th>\n",
       "      <td>DEN</td>\n",
       "      <td>2383</td>\n",
       "    </tr>\n",
       "    <tr>\n",
       "      <th>155</th>\n",
       "      <td>LAX</td>\n",
       "      <td>2082</td>\n",
       "    </tr>\n",
       "    <tr>\n",
       "      <th>...</th>\n",
       "      <td>...</td>\n",
       "      <td>...</td>\n",
       "    </tr>\n",
       "    <tr>\n",
       "      <th>164</th>\n",
       "      <td>LMT</td>\n",
       "      <td>1</td>\n",
       "    </tr>\n",
       "    <tr>\n",
       "      <th>168</th>\n",
       "      <td>LWB</td>\n",
       "      <td>1</td>\n",
       "    </tr>\n",
       "    <tr>\n",
       "      <th>222</th>\n",
       "      <td>PLN</td>\n",
       "      <td>1</td>\n",
       "    </tr>\n",
       "    <tr>\n",
       "      <th>236</th>\n",
       "      <td>RHI</td>\n",
       "      <td>1</td>\n",
       "    </tr>\n",
       "    <tr>\n",
       "      <th>139</th>\n",
       "      <td>INL</td>\n",
       "      <td>1</td>\n",
       "    </tr>\n",
       "  </tbody>\n",
       "</table>\n",
       "<p>297 rows × 2 columns</p>\n",
       "</div>"
      ],
      "text/plain": [
       "    Origin  number_flights\n",
       "18     ATL            4134\n",
       "208    ORD            3550\n",
       "79     DFW            2793\n",
       "78     DEN            2383\n",
       "155    LAX            2082\n",
       "..     ...             ...\n",
       "164    LMT               1\n",
       "168    LWB               1\n",
       "222    PLN               1\n",
       "236    RHI               1\n",
       "139    INL               1\n",
       "\n",
       "[297 rows x 2 columns]"
      ]
     },
     "execution_count": 39,
     "metadata": {},
     "output_type": "execute_result"
    }
   ],
   "source": [
    "data.groupby(\"Origin\").size().reset_index(name \n",
    "    = 'number_flights').sort_values(by = \"number_flights\", ascending = False)"
   ]
  },
  {
   "cell_type": "markdown",
   "metadata": {},
   "source": [
    "**10. (0.3 балла)** Найдите для каждого аэропорта среднее время полета (`AirTime`) по всем вылетевшим из него рейсам. Какой аэропорт имеет наибольшее значение этого показателя?"
   ]
  },
  {
   "cell_type": "code",
   "execution_count": 45,
   "metadata": {},
   "outputs": [
    {
     "data": {
      "text/html": [
       "<div>\n",
       "<style scoped>\n",
       "    .dataframe tbody tr th:only-of-type {\n",
       "        vertical-align: middle;\n",
       "    }\n",
       "\n",
       "    .dataframe tbody tr th {\n",
       "        vertical-align: top;\n",
       "    }\n",
       "\n",
       "    .dataframe thead th {\n",
       "        text-align: right;\n",
       "    }\n",
       "</style>\n",
       "<table border=\"1\" class=\"dataframe\">\n",
       "  <thead>\n",
       "    <tr style=\"text-align: right;\">\n",
       "      <th></th>\n",
       "      <th>Origin</th>\n",
       "      <th>time</th>\n",
       "    </tr>\n",
       "  </thead>\n",
       "  <tbody>\n",
       "    <tr>\n",
       "      <th>262</th>\n",
       "      <td>SJU</td>\n",
       "      <td>205.200000</td>\n",
       "    </tr>\n",
       "    <tr>\n",
       "      <th>38</th>\n",
       "      <td>BQN</td>\n",
       "      <td>193.954545</td>\n",
       "    </tr>\n",
       "    <tr>\n",
       "      <th>226</th>\n",
       "      <td>PSE</td>\n",
       "      <td>191.875000</td>\n",
       "    </tr>\n",
       "    <tr>\n",
       "      <th>272</th>\n",
       "      <td>STT</td>\n",
       "      <td>185.029412</td>\n",
       "    </tr>\n",
       "    <tr>\n",
       "      <th>16</th>\n",
       "      <td>ANC</td>\n",
       "      <td>165.415094</td>\n",
       "    </tr>\n",
       "  </tbody>\n",
       "</table>\n",
       "</div>"
      ],
      "text/plain": [
       "    Origin        time\n",
       "262    SJU  205.200000\n",
       "38     BQN  193.954545\n",
       "226    PSE  191.875000\n",
       "272    STT  185.029412\n",
       "16     ANC  165.415094"
      ]
     },
     "execution_count": 45,
     "metadata": {},
     "output_type": "execute_result"
    }
   ],
   "source": [
    "data.groupby(\"Origin\")[\"AirTime\"].mean().reset_index(name \n",
    "             = 'time').sort_values(by = \"time\", ascending = False).head()\n"
   ]
  },
  {
   "cell_type": "markdown",
   "metadata": {},
   "source": [
    "**11. (0.5 балла)** Найдите аэропорт, у которого наибольшая доля задержанных (`DepDelay > 0`) рейсов. Исключите при этом из рассмотрения аэропорты, из которых было отправлено меньше 1000 рейсов (используйте функцию `filter` после `groupby`)."
   ]
  },
  {
   "cell_type": "code",
   "execution_count": 3,
   "metadata": {},
   "outputs": [
    {
     "data": {
      "text/html": [
       "<div>\n",
       "<style scoped>\n",
       "    .dataframe tbody tr th:only-of-type {\n",
       "        vertical-align: middle;\n",
       "    }\n",
       "\n",
       "    .dataframe tbody tr th {\n",
       "        vertical-align: top;\n",
       "    }\n",
       "\n",
       "    .dataframe thead th {\n",
       "        text-align: right;\n",
       "    }\n",
       "</style>\n",
       "<table border=\"1\" class=\"dataframe\">\n",
       "  <thead>\n",
       "    <tr style=\"text-align: right;\">\n",
       "      <th></th>\n",
       "      <th>Origin</th>\n",
       "      <th>number_flights</th>\n",
       "      <th>ratio</th>\n",
       "    </tr>\n",
       "  </thead>\n",
       "  <tbody>\n",
       "    <tr>\n",
       "      <th>7</th>\n",
       "      <td>EWR</td>\n",
       "      <td>710</td>\n",
       "      <td>0.511159</td>\n",
       "    </tr>\n",
       "  </tbody>\n",
       "</table>\n",
       "</div>"
      ],
      "text/plain": [
       "  Origin  number_flights     ratio\n",
       "7    EWR             710  0.511159"
      ]
     },
     "execution_count": 3,
     "metadata": {},
     "output_type": "execute_result"
    }
   ],
   "source": [
    "data2 = data.groupby(\"Origin\").size().reset_index(name = 'number_flights')\n",
    "origin_names = list(data2[data2[\"number_flights\"] > 999][\"Origin\"])\n",
    "data3 = data[(data[\"Origin\"].isin(origin_names))]\n",
    "overall_num = data3.groupby(\"Origin\").size().reset_index(name = 'number_flights')\n",
    "delay_num = data3[data3[\"DepDelay\"] > 0].groupby(\"Origin\").size().reset_index(name = 'number_flights')\n",
    "delay_num[\"ratio\"] = delay_num[\"number_flights\"] / overall_num[\"number_flights\"]\n",
    "delay_num.sort_values(by = \"ratio\", ascending = False).head(1)"
   ]
  },
  {
   "cell_type": "markdown",
   "metadata": {},
   "source": [
    "## Линейная регрессия\n",
    "\n",
    "В этой части мы разберемся с линейной регрессией, способами её обучения и измерением качества ее прогнозов. \n",
    "\n",
    "Будем рассматривать датасет из предыдущей части задания для предсказания времени задержки отправления рейса в минутах (DepDelay). Отметим, что под задержкой подразумевается не только опоздание рейса относительно планируемого времени вылета, но и отправление до планируемого времени.\n",
    "\n",
    "### Подготовка данных\n",
    "\n",
    "**12. (0.5 балла)** Считайте выборку из файла при помощи функции pd.read_csv и ответьте на следующие вопросы:\n",
    "   - Имеются ли в данных пропущенные значения?\n",
    "   - Сколько всего пропущенных элементов в таблице \"объект-признак\"?\n",
    "   - Сколько объектов имеют хотя бы один пропуск?\n",
    "   - Сколько признаков имеют хотя бы одно пропущенное значение?"
   ]
  },
  {
   "cell_type": "code",
   "execution_count": 17,
   "metadata": {
    "scrolled": true
   },
   "outputs": [
    {
     "data": {
      "text/plain": [
       "Year                     0\n",
       "Month                    0\n",
       "DayofMonth               0\n",
       "DayOfWeek                0\n",
       "DepTime               1399\n",
       "CRSDepTime               0\n",
       "ArrTime               1556\n",
       "CRSArrTime               0\n",
       "UniqueCarrier            0\n",
       "FlightNum                0\n",
       "TailNum                820\n",
       "ActualElapsedTime     1582\n",
       "CRSElapsedTime           9\n",
       "AirTime               1582\n",
       "ArrDelay              1582\n",
       "DepDelay              1399\n",
       "Origin                   0\n",
       "Dest                     0\n",
       "Distance                 0\n",
       "TaxiIn                1556\n",
       "TaxiOut               1406\n",
       "Cancelled                0\n",
       "CancellationCode     68589\n",
       "Diverted                 0\n",
       "CarrierDelay         54747\n",
       "WeatherDelay         54747\n",
       "NASDelay             54747\n",
       "SecurityDelay        54747\n",
       "LateAircraftDelay    54747\n",
       "dtype: int64"
      ]
     },
     "execution_count": 17,
     "metadata": {},
     "output_type": "execute_result"
    }
   ],
   "source": [
    "data = pd.read_csv('2008.csv')\n",
    "data.isnull().sum()"
   ]
  },
  {
   "cell_type": "code",
   "execution_count": 64,
   "metadata": {},
   "outputs": [
    {
     "data": {
      "text/plain": [
       "355215"
      ]
     },
     "execution_count": 64,
     "metadata": {},
     "output_type": "execute_result"
    }
   ],
   "source": [
    "data.isnull().sum().sum()"
   ]
  },
  {
   "cell_type": "code",
   "execution_count": 53,
   "metadata": {},
   "outputs": [
    {
     "data": {
      "text/plain": [
       "index     69999\n",
       "answer    70000\n",
       "dtype: int64"
      ]
     },
     "execution_count": 53,
     "metadata": {},
     "output_type": "execute_result"
    }
   ],
   "source": [
    "data2 = data.isnull().sum(axis = 1).reset_index(name = \"answer\")\n",
    "data2.astype(bool).sum(axis=0)"
   ]
  },
  {
   "cell_type": "code",
   "execution_count": 54,
   "metadata": {},
   "outputs": [
    {
     "data": {
      "text/plain": [
       "index     29\n",
       "answer    16\n",
       "dtype: int64"
      ]
     },
     "execution_count": 54,
     "metadata": {},
     "output_type": "execute_result"
    }
   ],
   "source": [
    "data2 = data.isnull().sum(axis = 0).reset_index(name = \"answer\")\n",
    "data2.astype(bool).sum(axis=0)"
   ]
  },
  {
   "cell_type": "markdown",
   "metadata": {},
   "source": [
    "Как вы понимаете, также не имеет смысла рассматривать при решении поставленной задачи объекты с пропущенным значением целевой переменной. В связи с этим ответьте на следующие вопросы и выполните соответствующие действия:\n",
    "- Имеются ли пропущенные значения в целевой переменной?\n",
    "- Проанализируйте объекты с пропущенными значениями целевой переменной. Чем вызвано это явление? Что их объединяет? Можно ли в связи с этим, на ваш взгляд, исключить какие-то признаки из рассмотрения? Обоснуйте свою точку зрения.\n",
    "\n",
    "Исключите из выборки объекты **с пропущенным значением целевой переменной и со значением целевой переменной, равным 0**, а также при необходимости исключите признаки в соответствии с вашим ответом на последний вопрос из списка и выделите целевую переменную в отдельный вектор, исключив её из матрицы \"объект-признак\"."
   ]
  },
  {
   "cell_type": "code",
   "execution_count": 55,
   "metadata": {},
   "outputs": [
    {
     "data": {
      "text/plain": [
       "1399"
      ]
     },
     "execution_count": 55,
     "metadata": {},
     "output_type": "execute_result"
    }
   ],
   "source": [
    "data[\"DepDelay\"].isnull().sum()"
   ]
  },
  {
   "cell_type": "markdown",
   "metadata": {},
   "source": [
    "**Имеются пропущенные значения в целевой переменной**"
   ]
  },
  {
   "cell_type": "code",
   "execution_count": 18,
   "metadata": {},
   "outputs": [
    {
     "data": {
      "text/html": [
       "<div>\n",
       "<style scoped>\n",
       "    .dataframe tbody tr th:only-of-type {\n",
       "        vertical-align: middle;\n",
       "    }\n",
       "\n",
       "    .dataframe tbody tr th {\n",
       "        vertical-align: top;\n",
       "    }\n",
       "\n",
       "    .dataframe thead th {\n",
       "        text-align: right;\n",
       "    }\n",
       "</style>\n",
       "<table border=\"1\" class=\"dataframe\">\n",
       "  <thead>\n",
       "    <tr style=\"text-align: right;\">\n",
       "      <th></th>\n",
       "      <th>Month</th>\n",
       "      <th>DayofMonth</th>\n",
       "      <th>DayOfWeek</th>\n",
       "      <th>DepTime</th>\n",
       "      <th>CRSDepTime</th>\n",
       "      <th>ArrTime</th>\n",
       "      <th>CRSArrTime</th>\n",
       "      <th>UniqueCarrier</th>\n",
       "      <th>FlightNum</th>\n",
       "      <th>ActualElapsedTime</th>\n",
       "      <th>CRSElapsedTime</th>\n",
       "      <th>AirTime</th>\n",
       "      <th>ArrDelay</th>\n",
       "      <th>Origin</th>\n",
       "      <th>Dest</th>\n",
       "      <th>Distance</th>\n",
       "      <th>TaxiIn</th>\n",
       "      <th>TaxiOut</th>\n",
       "      <th>Diverted</th>\n",
       "    </tr>\n",
       "  </thead>\n",
       "  <tbody>\n",
       "    <tr>\n",
       "      <th>0</th>\n",
       "      <td>6</td>\n",
       "      <td>18</td>\n",
       "      <td>3</td>\n",
       "      <td>2111.0</td>\n",
       "      <td>2055</td>\n",
       "      <td>2308.0</td>\n",
       "      <td>2300</td>\n",
       "      <td>WN</td>\n",
       "      <td>242</td>\n",
       "      <td>57.0</td>\n",
       "      <td>65.0</td>\n",
       "      <td>46.0</td>\n",
       "      <td>8.0</td>\n",
       "      <td>MDW</td>\n",
       "      <td>CLE</td>\n",
       "      <td>307</td>\n",
       "      <td>3.0</td>\n",
       "      <td>8.0</td>\n",
       "      <td>0</td>\n",
       "    </tr>\n",
       "    <tr>\n",
       "      <th>1</th>\n",
       "      <td>6</td>\n",
       "      <td>4</td>\n",
       "      <td>3</td>\n",
       "      <td>1426.0</td>\n",
       "      <td>1410</td>\n",
       "      <td>1730.0</td>\n",
       "      <td>1728</td>\n",
       "      <td>XE</td>\n",
       "      <td>2380</td>\n",
       "      <td>124.0</td>\n",
       "      <td>138.0</td>\n",
       "      <td>108.0</td>\n",
       "      <td>2.0</td>\n",
       "      <td>IAH</td>\n",
       "      <td>AVL</td>\n",
       "      <td>834</td>\n",
       "      <td>4.0</td>\n",
       "      <td>12.0</td>\n",
       "      <td>0</td>\n",
       "    </tr>\n",
       "    <tr>\n",
       "      <th>2</th>\n",
       "      <td>8</td>\n",
       "      <td>3</td>\n",
       "      <td>7</td>\n",
       "      <td>1143.0</td>\n",
       "      <td>1145</td>\n",
       "      <td>1501.0</td>\n",
       "      <td>1520</td>\n",
       "      <td>WN</td>\n",
       "      <td>1769</td>\n",
       "      <td>138.0</td>\n",
       "      <td>155.0</td>\n",
       "      <td>125.0</td>\n",
       "      <td>-19.0</td>\n",
       "      <td>MDW</td>\n",
       "      <td>TPA</td>\n",
       "      <td>997</td>\n",
       "      <td>4.0</td>\n",
       "      <td>9.0</td>\n",
       "      <td>0</td>\n",
       "    </tr>\n",
       "    <tr>\n",
       "      <th>3</th>\n",
       "      <td>1</td>\n",
       "      <td>23</td>\n",
       "      <td>3</td>\n",
       "      <td>1141.0</td>\n",
       "      <td>1144</td>\n",
       "      <td>1323.0</td>\n",
       "      <td>1335</td>\n",
       "      <td>OO</td>\n",
       "      <td>3802</td>\n",
       "      <td>102.0</td>\n",
       "      <td>111.0</td>\n",
       "      <td>79.0</td>\n",
       "      <td>-12.0</td>\n",
       "      <td>SLC</td>\n",
       "      <td>FCA</td>\n",
       "      <td>532</td>\n",
       "      <td>4.0</td>\n",
       "      <td>19.0</td>\n",
       "      <td>0</td>\n",
       "    </tr>\n",
       "    <tr>\n",
       "      <th>4</th>\n",
       "      <td>5</td>\n",
       "      <td>4</td>\n",
       "      <td>7</td>\n",
       "      <td>815.0</td>\n",
       "      <td>820</td>\n",
       "      <td>1243.0</td>\n",
       "      <td>1300</td>\n",
       "      <td>WN</td>\n",
       "      <td>399</td>\n",
       "      <td>148.0</td>\n",
       "      <td>160.0</td>\n",
       "      <td>136.0</td>\n",
       "      <td>-17.0</td>\n",
       "      <td>LAS</td>\n",
       "      <td>AUS</td>\n",
       "      <td>1090</td>\n",
       "      <td>4.0</td>\n",
       "      <td>8.0</td>\n",
       "      <td>0</td>\n",
       "    </tr>\n",
       "    <tr>\n",
       "      <th>...</th>\n",
       "      <td>...</td>\n",
       "      <td>...</td>\n",
       "      <td>...</td>\n",
       "      <td>...</td>\n",
       "      <td>...</td>\n",
       "      <td>...</td>\n",
       "      <td>...</td>\n",
       "      <td>...</td>\n",
       "      <td>...</td>\n",
       "      <td>...</td>\n",
       "      <td>...</td>\n",
       "      <td>...</td>\n",
       "      <td>...</td>\n",
       "      <td>...</td>\n",
       "      <td>...</td>\n",
       "      <td>...</td>\n",
       "      <td>...</td>\n",
       "      <td>...</td>\n",
       "      <td>...</td>\n",
       "    </tr>\n",
       "    <tr>\n",
       "      <th>69994</th>\n",
       "      <td>1</td>\n",
       "      <td>26</td>\n",
       "      <td>6</td>\n",
       "      <td>920.0</td>\n",
       "      <td>925</td>\n",
       "      <td>1110.0</td>\n",
       "      <td>1118</td>\n",
       "      <td>OH</td>\n",
       "      <td>5218</td>\n",
       "      <td>110.0</td>\n",
       "      <td>113.0</td>\n",
       "      <td>85.0</td>\n",
       "      <td>-8.0</td>\n",
       "      <td>CVG</td>\n",
       "      <td>BDL</td>\n",
       "      <td>661</td>\n",
       "      <td>12.0</td>\n",
       "      <td>13.0</td>\n",
       "      <td>0</td>\n",
       "    </tr>\n",
       "    <tr>\n",
       "      <th>69995</th>\n",
       "      <td>5</td>\n",
       "      <td>12</td>\n",
       "      <td>1</td>\n",
       "      <td>1829.0</td>\n",
       "      <td>1840</td>\n",
       "      <td>2137.0</td>\n",
       "      <td>2149</td>\n",
       "      <td>DL</td>\n",
       "      <td>794</td>\n",
       "      <td>128.0</td>\n",
       "      <td>129.0</td>\n",
       "      <td>86.0</td>\n",
       "      <td>-12.0</td>\n",
       "      <td>ORD</td>\n",
       "      <td>ATL</td>\n",
       "      <td>606</td>\n",
       "      <td>22.0</td>\n",
       "      <td>20.0</td>\n",
       "      <td>0</td>\n",
       "    </tr>\n",
       "    <tr>\n",
       "      <th>69996</th>\n",
       "      <td>5</td>\n",
       "      <td>11</td>\n",
       "      <td>7</td>\n",
       "      <td>1149.0</td>\n",
       "      <td>1125</td>\n",
       "      <td>1336.0</td>\n",
       "      <td>1314</td>\n",
       "      <td>OO</td>\n",
       "      <td>6159</td>\n",
       "      <td>47.0</td>\n",
       "      <td>49.0</td>\n",
       "      <td>30.0</td>\n",
       "      <td>22.0</td>\n",
       "      <td>ORD</td>\n",
       "      <td>GRR</td>\n",
       "      <td>137</td>\n",
       "      <td>4.0</td>\n",
       "      <td>13.0</td>\n",
       "      <td>0</td>\n",
       "    </tr>\n",
       "    <tr>\n",
       "      <th>69998</th>\n",
       "      <td>2</td>\n",
       "      <td>18</td>\n",
       "      <td>1</td>\n",
       "      <td>1906.0</td>\n",
       "      <td>1900</td>\n",
       "      <td>2200.0</td>\n",
       "      <td>2139</td>\n",
       "      <td>NW</td>\n",
       "      <td>641</td>\n",
       "      <td>234.0</td>\n",
       "      <td>219.0</td>\n",
       "      <td>192.0</td>\n",
       "      <td>21.0</td>\n",
       "      <td>RSW</td>\n",
       "      <td>MSP</td>\n",
       "      <td>1416</td>\n",
       "      <td>20.0</td>\n",
       "      <td>22.0</td>\n",
       "      <td>0</td>\n",
       "    </tr>\n",
       "    <tr>\n",
       "      <th>69999</th>\n",
       "      <td>12</td>\n",
       "      <td>6</td>\n",
       "      <td>6</td>\n",
       "      <td>859.0</td>\n",
       "      <td>900</td>\n",
       "      <td>959.0</td>\n",
       "      <td>1005</td>\n",
       "      <td>WN</td>\n",
       "      <td>510</td>\n",
       "      <td>60.0</td>\n",
       "      <td>65.0</td>\n",
       "      <td>46.0</td>\n",
       "      <td>-6.0</td>\n",
       "      <td>LAS</td>\n",
       "      <td>BUR</td>\n",
       "      <td>223</td>\n",
       "      <td>2.0</td>\n",
       "      <td>12.0</td>\n",
       "      <td>0</td>\n",
       "    </tr>\n",
       "  </tbody>\n",
       "</table>\n",
       "<p>63404 rows × 19 columns</p>\n",
       "</div>"
      ],
      "text/plain": [
       "       Month  DayofMonth  DayOfWeek  DepTime  CRSDepTime  ArrTime  CRSArrTime  \\\n",
       "0          6          18          3   2111.0        2055   2308.0        2300   \n",
       "1          6           4          3   1426.0        1410   1730.0        1728   \n",
       "2          8           3          7   1143.0        1145   1501.0        1520   \n",
       "3          1          23          3   1141.0        1144   1323.0        1335   \n",
       "4          5           4          7    815.0         820   1243.0        1300   \n",
       "...      ...         ...        ...      ...         ...      ...         ...   \n",
       "69994      1          26          6    920.0         925   1110.0        1118   \n",
       "69995      5          12          1   1829.0        1840   2137.0        2149   \n",
       "69996      5          11          7   1149.0        1125   1336.0        1314   \n",
       "69998      2          18          1   1906.0        1900   2200.0        2139   \n",
       "69999     12           6          6    859.0         900    959.0        1005   \n",
       "\n",
       "      UniqueCarrier  FlightNum  ActualElapsedTime  CRSElapsedTime  AirTime  \\\n",
       "0                WN        242               57.0            65.0     46.0   \n",
       "1                XE       2380              124.0           138.0    108.0   \n",
       "2                WN       1769              138.0           155.0    125.0   \n",
       "3                OO       3802              102.0           111.0     79.0   \n",
       "4                WN        399              148.0           160.0    136.0   \n",
       "...             ...        ...                ...             ...      ...   \n",
       "69994            OH       5218              110.0           113.0     85.0   \n",
       "69995            DL        794              128.0           129.0     86.0   \n",
       "69996            OO       6159               47.0            49.0     30.0   \n",
       "69998            NW        641              234.0           219.0    192.0   \n",
       "69999            WN        510               60.0            65.0     46.0   \n",
       "\n",
       "       ArrDelay Origin Dest  Distance  TaxiIn  TaxiOut  Diverted  \n",
       "0           8.0    MDW  CLE       307     3.0      8.0         0  \n",
       "1           2.0    IAH  AVL       834     4.0     12.0         0  \n",
       "2         -19.0    MDW  TPA       997     4.0      9.0         0  \n",
       "3         -12.0    SLC  FCA       532     4.0     19.0         0  \n",
       "4         -17.0    LAS  AUS      1090     4.0      8.0         0  \n",
       "...         ...    ...  ...       ...     ...      ...       ...  \n",
       "69994      -8.0    CVG  BDL       661    12.0     13.0         0  \n",
       "69995     -12.0    ORD  ATL       606    22.0     20.0         0  \n",
       "69996      22.0    ORD  GRR       137     4.0     13.0         0  \n",
       "69998      21.0    RSW  MSP      1416    20.0     22.0         0  \n",
       "69999      -6.0    LAS  BUR       223     2.0     12.0         0  \n",
       "\n",
       "[63404 rows x 19 columns]"
      ]
     },
     "execution_count": 18,
     "metadata": {},
     "output_type": "execute_result"
    }
   ],
   "source": [
    "index_list = list(data[(data[\"DepDelay\"].isnull() == True) | (data[\"DepDelay\"] == 0)].index)\n",
    "data5 = data.drop(index_list, axis = 0)\n",
    "data5.drop([\"CarrierDelay\", \"WeatherDelay\", \"NASDelay\", \"SecurityDelay\", \"LateAircraftDelay\", \"Cancelled\", \n",
    "                \"CancellationCode\", \"Year\", \"TailNum\"], axis = 1, inplace = True)\n",
    "data6 = data5[\"DepDelay\"]\n",
    "data5.drop(\"DepDelay\", axis = 1, inplace = True)\n",
    "data5"
   ]
  },
  {
   "cell_type": "code",
   "execution_count": null,
   "metadata": {},
   "outputs": [],
   "source": []
  },
  {
   "cell_type": "markdown",
   "metadata": {},
   "source": [
    "**13. (0.5 балла)** Обратите внимание, что признаки DepTime, CRSDepTime, ArrTime, CRSArrTime приведены в формате hhmm, в связи с чем будет не вполне корректно рассматривать их как вещественные.\n",
    "\n",
    "Преобразуйте каждый признак FeatureName из указанных в пару новых признаков FeatureName\\_Hour, FeatureName\\_Minute, разделив каждое из значений на часы и минуты. Не забудьте при этом исключить исходный признак из выборки. В случае, если значение признака отсутствует, значения двух новых признаков, его заменяющих, также должны отсутствовать. \n",
    "\n",
    "Например, признак DepTime необходимо заменить на пару признаков DepTime_Hour, DepTime_Minute. При этом, например, значение 155 исходного признака будет преобразовано в значения 1 и 55 признаков DepTime_Hour, DepTime_Minute соответственно."
   ]
  },
  {
   "cell_type": "code",
   "execution_count": 19,
   "metadata": {},
   "outputs": [
    {
     "data": {
      "text/html": [
       "<div>\n",
       "<style scoped>\n",
       "    .dataframe tbody tr th:only-of-type {\n",
       "        vertical-align: middle;\n",
       "    }\n",
       "\n",
       "    .dataframe tbody tr th {\n",
       "        vertical-align: top;\n",
       "    }\n",
       "\n",
       "    .dataframe thead th {\n",
       "        text-align: right;\n",
       "    }\n",
       "</style>\n",
       "<table border=\"1\" class=\"dataframe\">\n",
       "  <thead>\n",
       "    <tr style=\"text-align: right;\">\n",
       "      <th></th>\n",
       "      <th>Month</th>\n",
       "      <th>DayofMonth</th>\n",
       "      <th>DayOfWeek</th>\n",
       "      <th>UniqueCarrier</th>\n",
       "      <th>FlightNum</th>\n",
       "      <th>ActualElapsedTime</th>\n",
       "      <th>CRSElapsedTime</th>\n",
       "      <th>AirTime</th>\n",
       "      <th>ArrDelay</th>\n",
       "      <th>Origin</th>\n",
       "      <th>...</th>\n",
       "      <th>TaxiOut</th>\n",
       "      <th>Diverted</th>\n",
       "      <th>DepTime_Hour</th>\n",
       "      <th>DepTime_Minute</th>\n",
       "      <th>CRSDepTime_Hour</th>\n",
       "      <th>CRSDepTime_Minute</th>\n",
       "      <th>ArrTime_Hour</th>\n",
       "      <th>ArrTime_Minute</th>\n",
       "      <th>CRSArrTime_Hour</th>\n",
       "      <th>CRSArrTime_Minute</th>\n",
       "    </tr>\n",
       "  </thead>\n",
       "  <tbody>\n",
       "    <tr>\n",
       "      <th>0</th>\n",
       "      <td>6</td>\n",
       "      <td>18</td>\n",
       "      <td>3</td>\n",
       "      <td>WN</td>\n",
       "      <td>242</td>\n",
       "      <td>57.0</td>\n",
       "      <td>65.0</td>\n",
       "      <td>46.0</td>\n",
       "      <td>8.0</td>\n",
       "      <td>MDW</td>\n",
       "      <td>...</td>\n",
       "      <td>8.0</td>\n",
       "      <td>0</td>\n",
       "      <td>21.0</td>\n",
       "      <td>11.0</td>\n",
       "      <td>20.0</td>\n",
       "      <td>55.0</td>\n",
       "      <td>23.0</td>\n",
       "      <td>8.0</td>\n",
       "      <td>23.0</td>\n",
       "      <td>0.0</td>\n",
       "    </tr>\n",
       "    <tr>\n",
       "      <th>1</th>\n",
       "      <td>6</td>\n",
       "      <td>4</td>\n",
       "      <td>3</td>\n",
       "      <td>XE</td>\n",
       "      <td>2380</td>\n",
       "      <td>124.0</td>\n",
       "      <td>138.0</td>\n",
       "      <td>108.0</td>\n",
       "      <td>2.0</td>\n",
       "      <td>IAH</td>\n",
       "      <td>...</td>\n",
       "      <td>12.0</td>\n",
       "      <td>0</td>\n",
       "      <td>14.0</td>\n",
       "      <td>26.0</td>\n",
       "      <td>14.0</td>\n",
       "      <td>10.0</td>\n",
       "      <td>17.0</td>\n",
       "      <td>30.0</td>\n",
       "      <td>17.0</td>\n",
       "      <td>28.0</td>\n",
       "    </tr>\n",
       "    <tr>\n",
       "      <th>2</th>\n",
       "      <td>8</td>\n",
       "      <td>3</td>\n",
       "      <td>7</td>\n",
       "      <td>WN</td>\n",
       "      <td>1769</td>\n",
       "      <td>138.0</td>\n",
       "      <td>155.0</td>\n",
       "      <td>125.0</td>\n",
       "      <td>-19.0</td>\n",
       "      <td>MDW</td>\n",
       "      <td>...</td>\n",
       "      <td>9.0</td>\n",
       "      <td>0</td>\n",
       "      <td>11.0</td>\n",
       "      <td>43.0</td>\n",
       "      <td>11.0</td>\n",
       "      <td>45.0</td>\n",
       "      <td>15.0</td>\n",
       "      <td>1.0</td>\n",
       "      <td>15.0</td>\n",
       "      <td>20.0</td>\n",
       "    </tr>\n",
       "    <tr>\n",
       "      <th>3</th>\n",
       "      <td>1</td>\n",
       "      <td>23</td>\n",
       "      <td>3</td>\n",
       "      <td>OO</td>\n",
       "      <td>3802</td>\n",
       "      <td>102.0</td>\n",
       "      <td>111.0</td>\n",
       "      <td>79.0</td>\n",
       "      <td>-12.0</td>\n",
       "      <td>SLC</td>\n",
       "      <td>...</td>\n",
       "      <td>19.0</td>\n",
       "      <td>0</td>\n",
       "      <td>11.0</td>\n",
       "      <td>41.0</td>\n",
       "      <td>11.0</td>\n",
       "      <td>44.0</td>\n",
       "      <td>13.0</td>\n",
       "      <td>23.0</td>\n",
       "      <td>13.0</td>\n",
       "      <td>35.0</td>\n",
       "    </tr>\n",
       "    <tr>\n",
       "      <th>4</th>\n",
       "      <td>5</td>\n",
       "      <td>4</td>\n",
       "      <td>7</td>\n",
       "      <td>WN</td>\n",
       "      <td>399</td>\n",
       "      <td>148.0</td>\n",
       "      <td>160.0</td>\n",
       "      <td>136.0</td>\n",
       "      <td>-17.0</td>\n",
       "      <td>LAS</td>\n",
       "      <td>...</td>\n",
       "      <td>8.0</td>\n",
       "      <td>0</td>\n",
       "      <td>8.0</td>\n",
       "      <td>15.0</td>\n",
       "      <td>8.0</td>\n",
       "      <td>20.0</td>\n",
       "      <td>12.0</td>\n",
       "      <td>43.0</td>\n",
       "      <td>13.0</td>\n",
       "      <td>0.0</td>\n",
       "    </tr>\n",
       "    <tr>\n",
       "      <th>...</th>\n",
       "      <td>...</td>\n",
       "      <td>...</td>\n",
       "      <td>...</td>\n",
       "      <td>...</td>\n",
       "      <td>...</td>\n",
       "      <td>...</td>\n",
       "      <td>...</td>\n",
       "      <td>...</td>\n",
       "      <td>...</td>\n",
       "      <td>...</td>\n",
       "      <td>...</td>\n",
       "      <td>...</td>\n",
       "      <td>...</td>\n",
       "      <td>...</td>\n",
       "      <td>...</td>\n",
       "      <td>...</td>\n",
       "      <td>...</td>\n",
       "      <td>...</td>\n",
       "      <td>...</td>\n",
       "      <td>...</td>\n",
       "      <td>...</td>\n",
       "    </tr>\n",
       "    <tr>\n",
       "      <th>69994</th>\n",
       "      <td>1</td>\n",
       "      <td>26</td>\n",
       "      <td>6</td>\n",
       "      <td>OH</td>\n",
       "      <td>5218</td>\n",
       "      <td>110.0</td>\n",
       "      <td>113.0</td>\n",
       "      <td>85.0</td>\n",
       "      <td>-8.0</td>\n",
       "      <td>CVG</td>\n",
       "      <td>...</td>\n",
       "      <td>13.0</td>\n",
       "      <td>0</td>\n",
       "      <td>9.0</td>\n",
       "      <td>20.0</td>\n",
       "      <td>9.0</td>\n",
       "      <td>25.0</td>\n",
       "      <td>11.0</td>\n",
       "      <td>10.0</td>\n",
       "      <td>11.0</td>\n",
       "      <td>18.0</td>\n",
       "    </tr>\n",
       "    <tr>\n",
       "      <th>69995</th>\n",
       "      <td>5</td>\n",
       "      <td>12</td>\n",
       "      <td>1</td>\n",
       "      <td>DL</td>\n",
       "      <td>794</td>\n",
       "      <td>128.0</td>\n",
       "      <td>129.0</td>\n",
       "      <td>86.0</td>\n",
       "      <td>-12.0</td>\n",
       "      <td>ORD</td>\n",
       "      <td>...</td>\n",
       "      <td>20.0</td>\n",
       "      <td>0</td>\n",
       "      <td>18.0</td>\n",
       "      <td>29.0</td>\n",
       "      <td>18.0</td>\n",
       "      <td>40.0</td>\n",
       "      <td>21.0</td>\n",
       "      <td>37.0</td>\n",
       "      <td>21.0</td>\n",
       "      <td>49.0</td>\n",
       "    </tr>\n",
       "    <tr>\n",
       "      <th>69996</th>\n",
       "      <td>5</td>\n",
       "      <td>11</td>\n",
       "      <td>7</td>\n",
       "      <td>OO</td>\n",
       "      <td>6159</td>\n",
       "      <td>47.0</td>\n",
       "      <td>49.0</td>\n",
       "      <td>30.0</td>\n",
       "      <td>22.0</td>\n",
       "      <td>ORD</td>\n",
       "      <td>...</td>\n",
       "      <td>13.0</td>\n",
       "      <td>0</td>\n",
       "      <td>11.0</td>\n",
       "      <td>49.0</td>\n",
       "      <td>11.0</td>\n",
       "      <td>25.0</td>\n",
       "      <td>13.0</td>\n",
       "      <td>36.0</td>\n",
       "      <td>13.0</td>\n",
       "      <td>14.0</td>\n",
       "    </tr>\n",
       "    <tr>\n",
       "      <th>69998</th>\n",
       "      <td>2</td>\n",
       "      <td>18</td>\n",
       "      <td>1</td>\n",
       "      <td>NW</td>\n",
       "      <td>641</td>\n",
       "      <td>234.0</td>\n",
       "      <td>219.0</td>\n",
       "      <td>192.0</td>\n",
       "      <td>21.0</td>\n",
       "      <td>RSW</td>\n",
       "      <td>...</td>\n",
       "      <td>22.0</td>\n",
       "      <td>0</td>\n",
       "      <td>19.0</td>\n",
       "      <td>6.0</td>\n",
       "      <td>19.0</td>\n",
       "      <td>0.0</td>\n",
       "      <td>22.0</td>\n",
       "      <td>0.0</td>\n",
       "      <td>21.0</td>\n",
       "      <td>39.0</td>\n",
       "    </tr>\n",
       "    <tr>\n",
       "      <th>69999</th>\n",
       "      <td>12</td>\n",
       "      <td>6</td>\n",
       "      <td>6</td>\n",
       "      <td>WN</td>\n",
       "      <td>510</td>\n",
       "      <td>60.0</td>\n",
       "      <td>65.0</td>\n",
       "      <td>46.0</td>\n",
       "      <td>-6.0</td>\n",
       "      <td>LAS</td>\n",
       "      <td>...</td>\n",
       "      <td>12.0</td>\n",
       "      <td>0</td>\n",
       "      <td>8.0</td>\n",
       "      <td>59.0</td>\n",
       "      <td>9.0</td>\n",
       "      <td>0.0</td>\n",
       "      <td>9.0</td>\n",
       "      <td>59.0</td>\n",
       "      <td>10.0</td>\n",
       "      <td>5.0</td>\n",
       "    </tr>\n",
       "  </tbody>\n",
       "</table>\n",
       "<p>63404 rows × 23 columns</p>\n",
       "</div>"
      ],
      "text/plain": [
       "       Month  DayofMonth  DayOfWeek UniqueCarrier  FlightNum  \\\n",
       "0          6          18          3            WN        242   \n",
       "1          6           4          3            XE       2380   \n",
       "2          8           3          7            WN       1769   \n",
       "3          1          23          3            OO       3802   \n",
       "4          5           4          7            WN        399   \n",
       "...      ...         ...        ...           ...        ...   \n",
       "69994      1          26          6            OH       5218   \n",
       "69995      5          12          1            DL        794   \n",
       "69996      5          11          7            OO       6159   \n",
       "69998      2          18          1            NW        641   \n",
       "69999     12           6          6            WN        510   \n",
       "\n",
       "       ActualElapsedTime  CRSElapsedTime  AirTime  ArrDelay Origin  ...  \\\n",
       "0                   57.0            65.0     46.0       8.0    MDW  ...   \n",
       "1                  124.0           138.0    108.0       2.0    IAH  ...   \n",
       "2                  138.0           155.0    125.0     -19.0    MDW  ...   \n",
       "3                  102.0           111.0     79.0     -12.0    SLC  ...   \n",
       "4                  148.0           160.0    136.0     -17.0    LAS  ...   \n",
       "...                  ...             ...      ...       ...    ...  ...   \n",
       "69994              110.0           113.0     85.0      -8.0    CVG  ...   \n",
       "69995              128.0           129.0     86.0     -12.0    ORD  ...   \n",
       "69996               47.0            49.0     30.0      22.0    ORD  ...   \n",
       "69998              234.0           219.0    192.0      21.0    RSW  ...   \n",
       "69999               60.0            65.0     46.0      -6.0    LAS  ...   \n",
       "\n",
       "      TaxiOut  Diverted  DepTime_Hour  DepTime_Minute  CRSDepTime_Hour  \\\n",
       "0         8.0         0          21.0            11.0             20.0   \n",
       "1        12.0         0          14.0            26.0             14.0   \n",
       "2         9.0         0          11.0            43.0             11.0   \n",
       "3        19.0         0          11.0            41.0             11.0   \n",
       "4         8.0         0           8.0            15.0              8.0   \n",
       "...       ...       ...           ...             ...              ...   \n",
       "69994    13.0         0           9.0            20.0              9.0   \n",
       "69995    20.0         0          18.0            29.0             18.0   \n",
       "69996    13.0         0          11.0            49.0             11.0   \n",
       "69998    22.0         0          19.0             6.0             19.0   \n",
       "69999    12.0         0           8.0            59.0              9.0   \n",
       "\n",
       "       CRSDepTime_Minute  ArrTime_Hour  ArrTime_Minute  CRSArrTime_Hour  \\\n",
       "0                   55.0          23.0             8.0             23.0   \n",
       "1                   10.0          17.0            30.0             17.0   \n",
       "2                   45.0          15.0             1.0             15.0   \n",
       "3                   44.0          13.0            23.0             13.0   \n",
       "4                   20.0          12.0            43.0             13.0   \n",
       "...                  ...           ...             ...              ...   \n",
       "69994               25.0          11.0            10.0             11.0   \n",
       "69995               40.0          21.0            37.0             21.0   \n",
       "69996               25.0          13.0            36.0             13.0   \n",
       "69998                0.0          22.0             0.0             21.0   \n",
       "69999                0.0           9.0            59.0             10.0   \n",
       "\n",
       "       CRSArrTime_Minute  \n",
       "0                    0.0  \n",
       "1                   28.0  \n",
       "2                   20.0  \n",
       "3                   35.0  \n",
       "4                    0.0  \n",
       "...                  ...  \n",
       "69994               18.0  \n",
       "69995               49.0  \n",
       "69996               14.0  \n",
       "69998               39.0  \n",
       "69999                5.0  \n",
       "\n",
       "[63404 rows x 23 columns]"
      ]
     },
     "execution_count": 19,
     "metadata": {},
     "output_type": "execute_result"
    }
   ],
   "source": [
    "def time(X):\n",
    "    hour = []\n",
    "    minut = []\n",
    "    for i in X:\n",
    "        if np.isnan(i):\n",
    "            hour.append(np.nan)\n",
    "            minut.append(np.nan)\n",
    "        else:\n",
    "            temp = str(int(i))\n",
    "            hour.append(float(('0'*(4-len(temp)) + temp)[:-2]))\n",
    "            minut.append(float(('0'*(4-len(temp)) + temp)[-2:]))\n",
    "    return hour, minut\n",
    "\n",
    "data5[\"DepTime_Hour\"], data5[\"DepTime_Minute\"] = time(data5[\"DepTime\"])\n",
    "data5.drop(\"DepTime\", axis = 1, inplace = True)\n",
    "data5[\"CRSDepTime_Hour\"], data5[\"CRSDepTime_Minute\"] = time(data5[\"CRSDepTime\"])\n",
    "data5.drop(\"CRSDepTime\", axis = 1, inplace = True)\n",
    "data5[\"ArrTime_Hour\"], data5[\"ArrTime_Minute\"] = time(data5[\"ArrTime\"])\n",
    "data5.drop(\"ArrTime\", axis = 1, inplace = True)\n",
    "data5[\"CRSArrTime_Hour\"], data5[\"CRSArrTime_Minute\"] = time(data5[\"CRSArrTime\"])\n",
    "data5.drop(\"CRSArrTime\", axis = 1, inplace = True)\n",
    "data5"
   ]
  },
  {
   "cell_type": "markdown",
   "metadata": {},
   "source": [
    "**14. (0.5 балла)** Некоторые из признаков, отличных от целевой переменной, могут оказывать чересчур значимое влияние на прогноз, поскольку по своему смыслу содержат большую долю информации о значении целевой переменной. Изучите описание датасета и исключите признаки, сильно коррелирующие с ответами. Ваш выбор признаков для исключения из выборки обоснуйте. Кроме того, исключите признаки TailNum и Year."
   ]
  },
  {
   "cell_type": "code",
   "execution_count": 78,
   "metadata": {},
   "outputs": [
    {
     "name": "stdout",
     "output_type": "stream",
     "text": [
      "Requirement already satisfied: seaborn in d:\\anaconda\\lib\\site-packages (0.11.2)\n",
      "Requirement already satisfied: scipy>=1.0 in d:\\anaconda\\lib\\site-packages (from seaborn) (1.7.3)\n",
      "Requirement already satisfied: pandas>=0.23 in d:\\anaconda\\lib\\site-packages (from seaborn) (1.4.2)\n",
      "Requirement already satisfied: numpy>=1.15 in d:\\anaconda\\lib\\site-packages (from seaborn) (1.21.5)\n",
      "Requirement already satisfied: matplotlib>=2.2 in d:\\anaconda\\lib\\site-packages (from seaborn) (3.5.1)\n",
      "Requirement already satisfied: pyparsing>=2.2.1 in d:\\anaconda\\lib\\site-packages (from matplotlib>=2.2->seaborn) (3.0.4)\n",
      "Requirement already satisfied: pillow>=6.2.0 in d:\\anaconda\\lib\\site-packages (from matplotlib>=2.2->seaborn) (9.0.1)\n",
      "Requirement already satisfied: kiwisolver>=1.0.1 in d:\\anaconda\\lib\\site-packages (from matplotlib>=2.2->seaborn) (1.3.2)\n",
      "Requirement already satisfied: packaging>=20.0 in d:\\anaconda\\lib\\site-packages (from matplotlib>=2.2->seaborn) (21.3)\n",
      "Requirement already satisfied: cycler>=0.10 in d:\\anaconda\\lib\\site-packages (from matplotlib>=2.2->seaborn) (0.11.0)\n",
      "Requirement already satisfied: fonttools>=4.22.0 in d:\\anaconda\\lib\\site-packages (from matplotlib>=2.2->seaborn) (4.25.0)\n",
      "Requirement already satisfied: python-dateutil>=2.7 in d:\\anaconda\\lib\\site-packages (from matplotlib>=2.2->seaborn) (2.8.2)\n",
      "Requirement already satisfied: pytz>=2020.1 in d:\\anaconda\\lib\\site-packages (from pandas>=0.23->seaborn) (2021.3)\n",
      "Requirement already satisfied: six>=1.5 in d:\\anaconda\\lib\\site-packages (from python-dateutil>=2.7->matplotlib>=2.2->seaborn) (1.16.0)\n"
     ]
    }
   ],
   "source": [
    "#!pip install seaborn"
   ]
  },
  {
   "cell_type": "code",
   "execution_count": 20,
   "metadata": {},
   "outputs": [
    {
     "data": {
      "image/png": "[encoded data removed]",
      "text/plain": [
       "<Figure size 720x360 with 1 Axes>"
      ]
     },
     "metadata": {},
     "output_type": "display_data"
    }
   ],
   "source": [
    "import seaborn as sns\n",
    "sns.set()\n",
    "\n",
    "cordata = data5.copy().select_dtypes([np.number])\n",
    "X = cordata.columns\n",
    "\n",
    "for i in X:\n",
    "    cordata[i].fillna(cordata[i].mean(), inplace = True)\n",
    "\n",
    "corr = {\n",
    "    feature: np.corrcoef(cordata[feature], data6)[0][1]\n",
    "    for feature in X\n",
    "}\n",
    "\n",
    "sortcorr = sorted(corr.items(), key=lambda x: x[1], reverse=True)\n",
    "features = [x[0] for x in sortcorr]\n",
    "corr = [x[1] for x in sortcorr]\n",
    "\n",
    "plot = sns.barplot(y=features, x=corr)\n",
    "plot.figure.set_size_inches(10,5)"
   ]
  },
  {
   "cell_type": "code",
   "execution_count": 6,
   "metadata": {},
   "outputs": [],
   "source": [
    "data.drop(\"ArrDelay\", axis = 1, inplace = True)"
   ]
  },
  {
   "cell_type": "markdown",
   "metadata": {},
   "source": [
    "**15. (1 балл)** Приведем данные к виду, пригодному для обучения линейных моделей. Для этого вещественные признаки надо отмасштабировать, а категориальные — привести к числовому виду. Также надо устранить пропуски в данных."
   ]
  },
  {
   "cell_type": "markdown",
   "metadata": {},
   "source": [
    "В первую очередь поймем, зачем необходимо применять масштабирование. Следующие ячейки с кодом построят гистограммы для 3 вещественных признаков выборки."
   ]
  },
  {
   "cell_type": "code",
   "execution_count": 84,
   "metadata": {
    "scrolled": true
   },
   "outputs": [
    {
     "data": {
      "text/plain": [
       "<AxesSubplot:>"
      ]
     },
     "execution_count": 84,
     "metadata": {},
     "output_type": "execute_result"
    },
    {
     "data": {
      "image/png": "[encoded data removed]",
      "text/plain": [
       "<Figure size 432x288 with 1 Axes>"
      ]
     },
     "metadata": {},
     "output_type": "display_data"
    }
   ],
   "source": [
    "data5['DepTime_Hour'].hist(bins=20)"
   ]
  },
  {
   "cell_type": "code",
   "execution_count": 85,
   "metadata": {},
   "outputs": [
    {
     "data": {
      "text/plain": [
       "<AxesSubplot:>"
      ]
     },
     "execution_count": 85,
     "metadata": {},
     "output_type": "execute_result"
    },
    {
     "data": {
      "image/png": "[encoded data removed]",
      "text/plain": [
       "<Figure size 432x288 with 1 Axes>"
      ]
     },
     "metadata": {},
     "output_type": "display_data"
    }
   ],
   "source": [
    "data5['TaxiIn'].hist(bins=20)"
   ]
  },
  {
   "cell_type": "code",
   "execution_count": 86,
   "metadata": {},
   "outputs": [
    {
     "data": {
      "text/plain": [
       "<AxesSubplot:>"
      ]
     },
     "execution_count": 86,
     "metadata": {},
     "output_type": "execute_result"
    },
    {
     "data": {
      "image/png": "[encoded data removed]",
      "text/plain": [
       "<Figure size 432x288 with 1 Axes>"
      ]
     },
     "metadata": {},
     "output_type": "display_data"
    }
   ],
   "source": [
    "data5['FlightNum'].hist(bins=20)"
   ]
  },
  {
   "cell_type": "markdown",
   "metadata": {},
   "source": [
    "Какую проблему вы наблюдаете на этих графиках? Как масштабирование поможет её исправить?"
   ]
  },
  {
   "cell_type": "markdown",
   "metadata": {},
   "source": [
    "**Из-за разных масштабов мы визуально не можем сравнить данные. После масштабирования проблема будет решена.**"
   ]
  },
  {
   "cell_type": "markdown",
   "metadata": {},
   "source": [
    "Некоторые из признаков в нашем датасете являются категориальными. Типичным подходом к работе с ними является бинарное, или [one-hot-кодирование](https://en.wikipedia.org/wiki/One-hot).\n",
    "\n",
    "Реализуйте функцию transform_data, которая принимает на вход DataFrame с признаками и выполняет следующие шаги:\n",
    "1. Замена пропущенных значений на нули для вещественных признаков и на строки 'nan' для категориальных.\n",
    "2. Масштабирование вещественных признаков с помощью [StandardScaler](http://scikit-learn.org/stable/modules/generated/sklearn.preprocessing.StandardScaler.html).\n",
    "3. One-hot-кодирование категориальных признаков с помощью [DictVectorizer](http://scikit-learn.org/stable/modules/generated/sklearn.feature_extraction.DictVectorizer.html) или функции [pd.get_dummies](http://pandas.pydata.org/pandas-docs/stable/generated/pandas.get_dummies.html).\n",
    "\n",
    "Метод должен возвращать преобразованный DataFrame, который должна состоять из масштабированных вещественных признаков и закодированных категориальных (исходные признаки должны быть исключены из выборки)."
   ]
  },
  {
   "cell_type": "code",
   "execution_count": 87,
   "metadata": {},
   "outputs": [
    {
     "name": "stdout",
     "output_type": "stream",
     "text": [
      "Collecting StandardScaler\n",
      "  Downloading StandardScaler-0.5.tar.gz (2.4 kB)\n",
      "Requirement already satisfied: numpy in d:\\anaconda\\lib\\site-packages (from StandardScaler) (1.21.5)\n",
      "Requirement already satisfied: pandas in d:\\anaconda\\lib\\site-packages (from StandardScaler) (1.4.2)\n",
      "Requirement already satisfied: scikit-learn in d:\\anaconda\\lib\\site-packages (from StandardScaler) (1.0.2)\n",
      "Collecting scikit-elm\n",
      "  Downloading scikit_elm-0.21a0-py3-none-any.whl (30 kB)\n",
      "Requirement already satisfied: dask in d:\\anaconda\\lib\\site-packages (from StandardScaler) (2022.2.1)\n",
      "Requirement already satisfied: fsspec>=0.6.0 in d:\\anaconda\\lib\\site-packages (from dask->StandardScaler) (2022.2.0)\n",
      "Requirement already satisfied: partd>=0.3.10 in d:\\anaconda\\lib\\site-packages (from dask->StandardScaler) (1.2.0)\n",
      "Requirement already satisfied: pyyaml>=5.3.1 in d:\\anaconda\\lib\\site-packages (from dask->StandardScaler) (6.0)\n",
      "Requirement already satisfied: toolz>=0.8.2 in d:\\anaconda\\lib\\site-packages (from dask->StandardScaler) (0.11.2)\n",
      "Requirement already satisfied: cloudpickle>=1.1.1 in d:\\anaconda\\lib\\site-packages (from dask->StandardScaler) (2.0.0)\n",
      "Requirement already satisfied: packaging>=20.0 in d:\\anaconda\\lib\\site-packages (from dask->StandardScaler) (21.3)\n",
      "Requirement already satisfied: pyparsing!=3.0.5,>=2.0.2 in d:\\anaconda\\lib\\site-packages (from packaging>=20.0->dask->StandardScaler) (3.0.4)\n",
      "Requirement already satisfied: locket in d:\\anaconda\\lib\\site-packages (from partd>=0.3.10->dask->StandardScaler) (0.2.1)\n",
      "Requirement already satisfied: python-dateutil>=2.8.1 in d:\\anaconda\\lib\\site-packages (from pandas->StandardScaler) (2.8.2)\n",
      "Requirement already satisfied: pytz>=2020.1 in d:\\anaconda\\lib\\site-packages (from pandas->StandardScaler) (2021.3)\n",
      "Requirement already satisfied: six>=1.5 in d:\\anaconda\\lib\\site-packages (from python-dateutil>=2.8.1->pandas->StandardScaler) (1.16.0)\n",
      "Requirement already satisfied: scipy in d:\\anaconda\\lib\\site-packages (from scikit-elm->StandardScaler) (1.7.3)\n",
      "Requirement already satisfied: threadpoolctl>=2.0.0 in d:\\anaconda\\lib\\site-packages (from scikit-learn->StandardScaler) (2.2.0)\n",
      "Requirement already satisfied: joblib>=0.11 in d:\\anaconda\\lib\\site-packages (from scikit-learn->StandardScaler) (1.1.0)\n",
      "Building wheels for collected packages: StandardScaler\n",
      "  Building wheel for StandardScaler (setup.py): started\n",
      "  Building wheel for StandardScaler (setup.py): finished with status 'done'\n",
      "  Created wheel for StandardScaler: filename=StandardScaler-0.5-py3-none-any.whl size=2615 sha256=96c79dea9be6cc6f0c9890325756d082b01077f96c8ee0d226850bc0110b9a27\n",
      "  Stored in directory: c:\\users\\юлия\\appdata\\local\\pip\\cache\\wheels\\98\\7d\\ec\\7ea52e96c7cf25f808c75a53cb1db1ef8e7c071debbc983276\n",
      "Successfully built StandardScaler\n",
      "Installing collected packages: scikit-elm, StandardScaler\n",
      "Successfully installed StandardScaler-0.5 scikit-elm-0.21a0\n"
     ]
    }
   ],
   "source": [
    "#! pip install StandardScaler"
   ]
  },
  {
   "cell_type": "code",
   "execution_count": 21,
   "metadata": {},
   "outputs": [],
   "source": [
    "from sklearn.preprocessing import StandardScaler"
   ]
  },
  {
   "cell_type": "code",
   "execution_count": 22,
   "metadata": {},
   "outputs": [],
   "source": [
    "def transform_data(data):\n",
    "    cols = data.select_dtypes(np.number).columns\n",
    "    data[cols] = data[cols].fillna(0)\n",
    "    scaler = StandardScaler()\n",
    "    data[cols] = scaler.fit_transform(data[cols])\n",
    "    \n",
    "    col = data.select_dtypes(object).columns\n",
    "    data[col] = data[col].fillna('nan')\n",
    "    dumms = pd.get_dummies(data[col])\n",
    "    answer = pd.concat([data, dumms], axis = 1).drop(col, axis = 1)\n",
    "    return answer"
   ]
  },
  {
   "cell_type": "markdown",
   "metadata": {},
   "source": [
    "Примените функцию transform_data к данным. Сколько признаков получилось после преобразования?"
   ]
  },
  {
   "cell_type": "code",
   "execution_count": 23,
   "metadata": {},
   "outputs": [
    {
     "name": "stdout",
     "output_type": "stream",
     "text": [
      "634\n"
     ]
    }
   ],
   "source": [
    "data = transform_data(data5)\n",
    "print(data.columns.size)"
   ]
  },
  {
   "cell_type": "markdown",
   "metadata": {},
   "source": [
    "**16. (0.5 балла)** Разбейте выборку и вектор целевой переменной на обучение и контроль в отношении 70/30 (для этого можно использовать, например, функцию [train_test_split](http://scikit-learn.org/stable/modules/generated/sklearn.cross_validation.train_test_split.html)). "
   ]
  },
  {
   "cell_type": "code",
   "execution_count": 30,
   "metadata": {},
   "outputs": [],
   "source": [
    "from sklearn.model_selection import train_test_split\n",
    "\n",
    "X_train, X_test, y_train, y_test = train_test_split(data, data6, test_size = 0.3, random_state=74)"
   ]
  },
  {
   "cell_type": "markdown",
   "metadata": {},
   "source": [
    "### Scikit-learn\n",
    "\n",
    "<img src = \"https://pp.vk.me/c4534/u35727827/93547647/x_d31c4463.jpg\">\n",
    "Теперь, когда мы привели данные к пригодному виду, попробуем решить задачу при помощи метода наименьших квадратов. Напомним, что данный метод заключается в оптимизации функционала $MSE$:\n",
    "\n",
    "$$MSE(X, y) = \\frac{1}{l} \\sum_{i=1}^l (<w, x_i> - y_i)^2 \\to \\min_{w},$$\n",
    "\n",
    "где $\\{ (x_i, y_i ) \\}_{i=1}^l$ — обучающая выборка, состоящая из $l$ пар объект-ответ.\n",
    "\n",
    "Заметим, что решение данной задачи уже реализовано в модуле sklearn в виде класса [LinearRegression](http://scikit-learn.org/stable/modules/generated/sklearn.linear_model.LinearRegression.html#sklearn.linear_model.LinearRegression).\n",
    "\n",
    "**17. (0.5 балла)** Обучите линейную регрессию на 1000 объектах из обучающей выборки и выведите значения $MSE$ и $R^2$ на этой подвыборке и контрольной выборке (итого 4 различных числа). Проинтерпретируйте полученный результат — насколько качественные прогнозы строит полученная модель? Какие проблемы наблюдаются в модели?\n",
    "\n",
    "**Подсказка**: изучите значения полученных коэффициентов $w$, сохраненных в атрибуте coef_ объекта LinearRegression."
   ]
  },
  {
   "cell_type": "code",
   "execution_count": 31,
   "metadata": {},
   "outputs": [
    {
     "name": "stdout",
     "output_type": "stream",
     "text": [
      "MSE подв 7.050918814156204\n",
      "R^2 подв 0.9938545793901105\n",
      "MSE кв 2.7440702665795008e+22\n",
      "R^2 кв -2.151224816957089e+19\n"
     ]
    }
   ],
   "source": [
    "from sklearn.linear_model import LinearRegression\n",
    "from sklearn.metrics import mean_squared_error, mean_absolute_error\n",
    "\n",
    "X_train_train, X_train_test, y_train_train, y_train_test = train_test_split(X_train, y_train, \n",
    "                                                                            train_size = 1000, random_state = 42)\n",
    "\n",
    "linreg = LinearRegression().fit(X_train_train, y_train_train)\n",
    "\n",
    "y_train_train_pred = linreg.predict(X_train_train)\n",
    "print(\"MSE подв\", mean_squared_error(y_train_train, y_train_train_pred))\n",
    "print(\"R^2 подв\", linreg.score(X_train_train, y_train_train))\n",
    "\n",
    "y_test_pred = linreg.predict(X_test)\n",
    "print(\"MSE кв\", mean_squared_error(y_test, y_test_pred))\n",
    "print(\"R^2 кв\", linreg.score(X_test, y_test))"
   ]
  },
  {
   "cell_type": "markdown",
   "metadata": {
    "collapsed": true
   },
   "source": [
    "Для решения описанных вами в предыдущем пункте проблем используем L1- или L2-регуляризацию, тем самым получив Lasso и Ridge регрессии соответственно и изменив оптимизационную задачу одним из следующих образов:\n",
    "$$MSE_{L1}(X, y) = \\frac{1}{l} \\sum_{i=1}^l (<w, x_i> - y_i)^2 + \\alpha ||w||_1 \\to \\min_{w},$$\n",
    "$$MSE_{L2}(X, y) = \\frac{1}{l} \\sum_{i=1}^l (<w, x_i> - y_i)^2 + \\alpha ||w||_2^2 \\to \\min_{w},$$\n",
    "\n",
    "где $\\alpha$ — коэффициент регуляризации. Один из способов его подбора заключается в переборе некоторого количества значений и оценке качества на кросс-валидации для каждого из них, после чего выбирается значение, для которого было получено наилучшее качество."
   ]
  },
  {
   "cell_type": "code",
   "execution_count": 32,
   "metadata": {},
   "outputs": [],
   "source": [
    "from sklearn.linear_model import Ridge, Lasso, RidgeCV, LassoCV\n",
    "from sklearn.model_selection import GridSearchCV, cross_val_predict"
   ]
  },
  {
   "cell_type": "markdown",
   "metadata": {},
   "source": [
    "__18. (1 балл) __ Обучение линейной регрессии.\n",
    "\n",
    "\n",
    "\n",
    "Обучите линейную регрессию с $L_1$ (Lasso) и $L_2$ (Ridge) регуляризаторами (используйте параметры по умолчанию). Посмотрите, какое количество коэффициентов близко к 0 (степень близости к 0 определите сами из разумных пределов). Постройте график зависимости числа ненулевых коэффициентов от коэффицента регуляризации (перебирайте значения по логарифмической сетке от $10^{-3}$ до $10^3$). Согласуются ли результаты с вашими ожиданиями?"
   ]
  },
  {
   "cell_type": "code",
   "execution_count": 34,
   "metadata": {},
   "outputs": [
    {
     "name": "stdout",
     "output_type": "stream",
     "text": [
      "Лассо: 628\n",
      "Ridge: 290\n"
     ]
    }
   ],
   "source": [
    "lasso = Lasso()\n",
    "lasso = lasso.fit(X_train_train, y_train_train)\n",
    "ridge = Ridge()\n",
    "ridge = ridge.fit(X_train_train, y_train_train)\n",
    "\n",
    "print(\"Лассо:\", np.sum(np.absolute(lasso.coef_) < 10 ** (-20)))\n",
    "print(\"Ridge:\", np.sum(np.absolute(ridge.coef_) < 10 ** (-20)))"
   ]
  },
  {
   "cell_type": "code",
   "execution_count": 39,
   "metadata": {},
   "outputs": [],
   "source": [
    "alphas = 10 ** np.linspace(-3, 3, 20)\n",
    "lasso_zeros_num = list()\n",
    "ridge_zeros_num = list()\n",
    "for alpha in alphas:\n",
    "    lasso_model = Lasso(alpha = alpha, max_iter=100000)\n",
    "    lasso_model.fit(X_train_train, y_train_train)\n",
    "    ridge_model = Ridge(alpha = alpha)\n",
    "    ridge_model.fit(X_train_train, y_train_train)\n",
    "    lasso_zeros_num.append(np.sum(np.absolute(lasso_model.coef_) < 10 ** (-20)))\n",
    "    ridge_zeros_num.append(np.sum(np.absolute(ridge_model.coef_) < 10 ** (-20)))"
   ]
  },
  {
   "cell_type": "code",
   "execution_count": 41,
   "metadata": {},
   "outputs": [
    {
     "data": {
      "image/png": "[encoded data removed]",
      "text/plain": [
       "<Figure size 1440x360 with 2 Axes>"
      ]
     },
     "metadata": {},
     "output_type": "display_data"
    }
   ],
   "source": [
    "import matplotlib.pyplot as plt\n",
    "fig, axes = plt.subplots(1, 2, figsize = (20, 5))\n",
    "axes[0].plot(alphas, lasso_zeros_num, color='pink')\n",
    "axes[0].set_xlabel(\"Альфа\")\n",
    "axes[0].set_ylabel(\"Число с нулевыми коэф.\")\n",
    "axes[0].set_title(\"Лассо\")\n",
    "axes[0].set_xscale('log')\n",
    "axes[1].plot(alphas, ridge_zeros_num, color='blue')\n",
    "axes[1].set_xlabel(\"Альфа\")\n",
    "axes[1].set_ylabel(\"Число с нулевыми коэф.\")\n",
    "axes[1].set_title(\"Ridge\")\n",
    "axes[1].set_xscale('log')"
   ]
  },
  {
   "cell_type": "code",
   "execution_count": null,
   "metadata": {},
   "outputs": [],
   "source": []
  },
  {
   "cell_type": "code",
   "execution_count": null,
   "metadata": {},
   "outputs": [],
   "source": []
  },
  {
   "cell_type": "markdown",
   "metadata": {},
   "source": [
    "Посчитайте для Ridge-регрессии следующие метрики: $RMSE$, $MAE$, $R^2$."
   ]
  },
  {
   "cell_type": "code",
   "execution_count": 42,
   "metadata": {},
   "outputs": [
    {
     "name": "stdout",
     "output_type": "stream",
     "text": [
      "RMSE: 6.211981929402384\n",
      "MAE: 2.7107083293756733\n",
      "R^2: 0.9697482196301087\n"
     ]
    }
   ],
   "source": [
    "def Ridge_metrics(X_train, y_train, X_test, y_test, alpha = 1.0):\n",
    "    ridge_model = Ridge(alpha = alpha)\n",
    "    ridge_model.fit(X_train, y_train)\n",
    "    y_test_pred = ridge_model.predict(X_test)\n",
    "    print(\"RMSE:\", mean_squared_error(y_test, y_test_pred)** 0.5)\n",
    "    print(\"MAE:\", mean_absolute_error(y_test, y_test_pred))\n",
    "    print(\"R^2:\", ridge_model.score(X_test, y_test))\n",
    "    \n",
    "Ridge_metrics(X_train_train, y_train_train, X_test, y_test)"
   ]
  },
  {
   "cell_type": "markdown",
   "metadata": {},
   "source": [
    "Подберите на обучающей выборке для Ridge-регрессии коэффициент регуляризации (перебирайте значения по логарифмической сетке от $10^{-3}$ до $10^3$) для каждой из метрик при помощи кросс-валидации c 5 фолдами на тех же 1000 объектах. Для этого воспользуйтесь GridSearchCV и KFold из sklearn. Постройте графики зависимости фукнции потерь от коэффициента регуляризации. Посчитайте те же метрики снова. Заметно ли изменилось качество?\n",
    "\n",
    "Для выполнения данного задания вам могут понадобиться реализованные в библиотеке объекты [LassoCV](http://scikit-learn.org/stable/modules/generated/sklearn.linear_model.LassoCV.html), [RidgeCV](http://scikit-learn.org/stable/modules/generated/sklearn.linear_model.RidgeCV.html) и [KFold](http://scikit-learn.org/stable/modules/generated/sklearn.cross_validation.KFold.html)."
   ]
  },
  {
   "cell_type": "code",
   "execution_count": 43,
   "metadata": {},
   "outputs": [
    {
     "name": "stdout",
     "output_type": "stream",
     "text": [
      "Best alpha for neg_root_mean_squared_error is 3.5564803062231287\n",
      "RMSE: 6.1642668083671595\n",
      "MAE: 3.153122812210671\n",
      "R^2: 0.9702111712737762\n"
     ]
    },
    {
     "data": {
      "image/png": "[encoded data removed]",
      "text/plain": [
       "<Figure size 432x288 with 1 Axes>"
      ]
     },
     "metadata": {},
     "output_type": "display_data"
    }
   ],
   "source": [
    "from sklearn.model_selection import GridSearchCV\n",
    "def search_best_alpha(scoring, X_train, y_train):\n",
    "    alphas = 10 ** np.linspace(-3, 3, 50)\n",
    "    searcher = GridSearchCV(Ridge(), [{\"alpha\": alphas}], scoring = scoring, cv = 5)\n",
    "    searcher.fit(X_train, y_train)\n",
    "    best_alpha = searcher.best_params_[\"alpha\"]\n",
    "    print(\"Best alpha for\", scoring, \"is\", best_alpha)\n",
    "    plt.plot(alphas, -searcher.cv_results_[\"mean_test_score\"])\n",
    "    plt.xscale(\"log\")\n",
    "    plt.xlabel(\"alpha\")\n",
    "    plt.ylabel(\"CV score\")\n",
    "    plt.title(scoring)\n",
    "    return best_alpha\n",
    "\n",
    "best_alpha = search_best_alpha('neg_root_mean_squared_error', X_train_train, y_train_train)\n",
    "Ridge_metrics(X_train_train, y_train_train, X_test, y_test, best_alpha)"
   ]
  },
  {
   "cell_type": "code",
   "execution_count": 47,
   "metadata": {},
   "outputs": [
    {
     "name": "stdout",
     "output_type": "stream",
     "text": [
      "Best alpha for neg_mean_absolute_error is 0.1206792640639329\n",
      "RMSE: 6.864415855845793\n",
      "MAE: 2.5636380057775106\n",
      "R^2: 0.9630599275459579\n"
     ]
    },
    {
     "data": {
      "image/png": "[encoded data removed]",
      "text/plain": [
       "<Figure size 432x288 with 1 Axes>"
      ]
     },
     "metadata": {},
     "output_type": "display_data"
    }
   ],
   "source": [
    "best_alpha = search_best_alpha('neg_mean_absolute_error', X_train_train, y_train_train)\n",
    "Ridge_metrics(X_train_train, y_train_train, X_test, y_test, best_alpha)"
   ]
  },
  {
   "cell_type": "markdown",
   "metadata": {
    "collapsed": true
   },
   "source": [
    "__19. (0.5 балла)__ Поиск объектов-выбросов\n",
    "\n",
    "\n",
    "Как известно, MSE сильно штрафует за большие ошибки на объектах-выбросах. С помощью cross_val_predict сделайте Out-of-Fold предсказания для обучающей выборки. Посчитайте ошибки и посмотрите на их распределение (plt.hist). Что вы видите?"
   ]
  },
  {
   "cell_type": "code",
   "execution_count": 48,
   "metadata": {},
   "outputs": [
    {
     "data": {
      "text/plain": [
       "Text(0.5, 1.0, 'Ошибки')"
      ]
     },
     "execution_count": 48,
     "metadata": {},
     "output_type": "execute_result"
    },
    {
     "data": {
      "image/png": "[encoded data removed]",
      "text/plain": [
       "<Figure size 432x288 with 1 Axes>"
      ]
     },
     "metadata": {},
     "output_type": "display_data"
    }
   ],
   "source": [
    "import matplotlib.pyplot as plt\n",
    "model = Ridge()\n",
    "y_pred = cross_val_predict(model, X_test, y_test)\n",
    "error = (y_pred - y_test) ** 2\n",
    "plt.hist(error, bins = 25, color = 'pink')\n",
    "plt.yscale(\"log\")\n",
    "plt.title(\"Ошибки\")"
   ]
  },
  {
   "cell_type": "code",
   "execution_count": null,
   "metadata": {},
   "outputs": [],
   "source": []
  }
 ],
 "metadata": {
  "kernelspec": {
   "display_name": "Python 3 (ipykernel)",
   "language": "python",
   "name": "python3"
  },
  "language_info": {
   "codemirror_mode": {
    "name": "ipython",
    "version": 3
   },
   "file_extension": ".py",
   "mimetype": "text/x-python",
   "name": "python",
   "nbconvert_exporter": "python",
   "pygments_lexer": "ipython3",
   "version": "3.9.12"
  }
 },
 "nbformat": 4,
 "nbformat_minor": 1
}
